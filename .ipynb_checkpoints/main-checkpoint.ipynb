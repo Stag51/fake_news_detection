{
 "cells": [
  {
   "cell_type": "code",
   "execution_count": 2,
   "id": "ee250053-6172-47a5-84ec-8935b01e3893",
   "metadata": {},
   "outputs": [],
   "source": [
    "# Importing all the important libraries\n",
    "import pandas as pd\n",
    "import numpy as np\n",
    "import matplotlib.pyplot as plt\n",
    "import seaborn as sns\n",
    "from sklearn.feature_extraction.text import  CountVectorizer\n",
    "from sklearn.feature_extraction.text import TfidfTransformer\n",
    "from sklearn import feature_extraction, linear_model, model_selection, preprocessing\n",
    "from sklearn.metrics import accuracy_score\n",
    "from sklearn.model_selection import train_test_split\n",
    "from sklearn.pipeline import Pipeline"
   ]
  },
  {
   "cell_type": "code",
   "execution_count": 3,
   "id": "c8d0aecd-c978-4556-b6ce-ffa5febc4216",
   "metadata": {},
   "outputs": [],
   "source": [
    "fake_data = pd.read_csv(\"data/fake.csv\")\n",
    "true_data = pd.read_csv(\"data/true.csv\")"
   ]
  },
  {
   "cell_type": "code",
   "execution_count": 5,
   "id": "ef558e49-5cdd-42d7-8d55-aa2b7796ddbc",
   "metadata": {},
   "outputs": [
    {
     "name": "stdout",
     "output_type": "stream",
     "text": [
      "Fake Data Shape:  (23481, 4)\n",
      "True Data Shape:  (21417, 4)\n"
     ]
    }
   ],
   "source": [
    "print(\"Fake Data Shape: \", fake_data.shape)\n",
    "print(\"True Data Shape: \", true_data.shape)"
   ]
  },
  {
   "cell_type": "code",
   "execution_count": 6,
   "id": "eaac92c9-c40a-4e44-bf7d-306a00186b0b",
   "metadata": {},
   "outputs": [],
   "source": [
    "# Data Cleaning\n",
    "\n",
    "fake_data[\"target\"] = 'fake'\n",
    "true_data[\"target\"] = 'true'"
   ]
  },
  {
   "cell_type": "code",
   "execution_count": 8,
   "id": "a0f320cf-354f-4ed5-a4f2-422cb67c46f1",
   "metadata": {},
   "outputs": [
    {
     "name": "stdout",
     "output_type": "stream",
     "text": [
      "Concatinated Data Shape:  (44898, 5)\n"
     ]
    }
   ],
   "source": [
    "# Concatination of dataframes\n",
    "data = pd.concat([fake_data, true_data]).reset_index(drop = True)\n",
    "print(\"Concatinated Data Shape: \", data.shape)"
   ]
  },
  {
   "cell_type": "code",
   "execution_count": 9,
   "id": "eec3214f-6925-4fec-bfc0-00fa712cef5b",
   "metadata": {},
   "outputs": [],
   "source": [
    "# Shuffling the data\n",
    "from sklearn.utils import shuffle\n",
    "data = shuffle(data)\n",
    "data = data.reset_index(drop = True)"
   ]
  },
  {
   "cell_type": "code",
   "execution_count": 10,
   "id": "ee4e8b56-aa4a-4c6d-b64d-3a97e03cc84e",
   "metadata": {},
   "outputs": [
    {
     "data": {
      "text/html": [
       "<div>\n",
       "<style scoped>\n",
       "    .dataframe tbody tr th:only-of-type {\n",
       "        vertical-align: middle;\n",
       "    }\n",
       "\n",
       "    .dataframe tbody tr th {\n",
       "        vertical-align: top;\n",
       "    }\n",
       "\n",
       "    .dataframe thead th {\n",
       "        text-align: right;\n",
       "    }\n",
       "</style>\n",
       "<table border=\"1\" class=\"dataframe\">\n",
       "  <thead>\n",
       "    <tr style=\"text-align: right;\">\n",
       "      <th></th>\n",
       "      <th>title</th>\n",
       "      <th>text</th>\n",
       "      <th>subject</th>\n",
       "      <th>date</th>\n",
       "      <th>target</th>\n",
       "    </tr>\n",
       "  </thead>\n",
       "  <tbody>\n",
       "    <tr>\n",
       "      <th>0</th>\n",
       "      <td>WATCH: BLACK CONSERVATIVE DESTROYS Mexican Fla...</td>\n",
       "      <td>***LANGUAGE WARNING*** Why is it acceptable fo...</td>\n",
       "      <td>left-news</td>\n",
       "      <td>Jun 4, 2016</td>\n",
       "      <td>fake</td>\n",
       "    </tr>\n",
       "    <tr>\n",
       "      <th>1</th>\n",
       "      <td>MUST WATCH: Barack Obama After January 20th…Th...</td>\n",
       "      <td>January 20th can't come soon enough. We need t...</td>\n",
       "      <td>politics</td>\n",
       "      <td>Dec 21, 2016</td>\n",
       "      <td>fake</td>\n",
       "    </tr>\n",
       "    <tr>\n",
       "      <th>2</th>\n",
       "      <td>Ellen Pompeo Just Shut A Racist Twitter Troll...</td>\n",
       "      <td>After Ellen Pompeo viewed yet other shooting o...</td>\n",
       "      <td>News</td>\n",
       "      <td>July 21, 2016</td>\n",
       "      <td>fake</td>\n",
       "    </tr>\n",
       "    <tr>\n",
       "      <th>3</th>\n",
       "      <td>Sanders may debate Trump, not Clinton, before ...</td>\n",
       "      <td>WASHINGTON (Reuters) - An unconventional debat...</td>\n",
       "      <td>politicsNews</td>\n",
       "      <td>May 26, 2016</td>\n",
       "      <td>true</td>\n",
       "    </tr>\n",
       "    <tr>\n",
       "      <th>4</th>\n",
       "      <td>CA: STATE LEGISLATORS Want Traffic Fines To Be...</td>\n",
       "      <td>Punishing rich, hard-working, white Americans ...</td>\n",
       "      <td>left-news</td>\n",
       "      <td>May 19, 2017</td>\n",
       "      <td>fake</td>\n",
       "    </tr>\n",
       "  </tbody>\n",
       "</table>\n",
       "</div>"
      ],
      "text/plain": [
       "                                               title  \\\n",
       "0  WATCH: BLACK CONSERVATIVE DESTROYS Mexican Fla...   \n",
       "1  MUST WATCH: Barack Obama After January 20th…Th...   \n",
       "2   Ellen Pompeo Just Shut A Racist Twitter Troll...   \n",
       "3  Sanders may debate Trump, not Clinton, before ...   \n",
       "4  CA: STATE LEGISLATORS Want Traffic Fines To Be...   \n",
       "\n",
       "                                                text       subject  \\\n",
       "0  ***LANGUAGE WARNING*** Why is it acceptable fo...     left-news   \n",
       "1  January 20th can't come soon enough. We need t...      politics   \n",
       "2  After Ellen Pompeo viewed yet other shooting o...          News   \n",
       "3  WASHINGTON (Reuters) - An unconventional debat...  politicsNews   \n",
       "4  Punishing rich, hard-working, white Americans ...     left-news   \n",
       "\n",
       "            date target  \n",
       "0    Jun 4, 2016   fake  \n",
       "1   Dec 21, 2016   fake  \n",
       "2  July 21, 2016   fake  \n",
       "3  May 26, 2016    true  \n",
       "4   May 19, 2017   fake  "
      ]
     },
     "execution_count": 10,
     "metadata": {},
     "output_type": "execute_result"
    }
   ],
   "source": [
    "# Checking the top rows of data\n",
    "data.head()"
   ]
  },
  {
   "cell_type": "code",
   "execution_count": null,
   "id": "9f2c876f-adfd-4365-8acb-558f19e3c8b1",
   "metadata": {},
   "outputs": [],
   "source": []
  }
 ],
 "metadata": {
  "kernelspec": {
   "display_name": "Python 3 (ipykernel)",
   "language": "python",
   "name": "python3"
  },
  "language_info": {
   "codemirror_mode": {
    "name": "ipython",
    "version": 3
   },
   "file_extension": ".py",
   "mimetype": "text/x-python",
   "name": "python",
   "nbconvert_exporter": "python",
   "pygments_lexer": "ipython3",
   "version": "3.11.9"
  }
 },
 "nbformat": 4,
 "nbformat_minor": 5
}
